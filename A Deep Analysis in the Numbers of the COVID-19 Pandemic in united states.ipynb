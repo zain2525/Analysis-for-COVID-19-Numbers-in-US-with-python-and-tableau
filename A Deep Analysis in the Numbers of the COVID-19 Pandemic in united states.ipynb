{
 "cells": [
  {
   "cell_type": "markdown",
   "metadata": {},
   "source": [
    "# A Deep Analysis in the Numbers of the COVID-19 Pandemic in united states with python and tableau"
   ]
  },
  {
   "cell_type": "markdown",
   "metadata": {},
   "source": [
    "### Importing Libraries\n",
    "The libraries used in this notebook are:"
   ]
  },
  {
   "cell_type": "code",
   "execution_count": 1,
   "metadata": {},
   "outputs": [],
   "source": [
    "import opendatasets as od\n",
    "import pandas as pd\n",
    "import seaborn as sns\n",
    "import matplotlib \n",
    "import matplotlib.pyplot as plt\n",
    "%matplotlib inline"
   ]
  },
  {
   "cell_type": "markdown",
   "metadata": {},
   "source": [
    "### Data Preparation and Cleaning\n",
    "\n",
    "For the purposes of this work the data will be retrieved from  NY-TIMES COVID-19 USA dataset , which is updated in a Regular basis bases on the information reported officially by the government.\n",
    "\n",
    "#### Our NY-TIMES COVID-19 USA Dataset\n",
    "\n",
    "Our NY-TIMES COVID-19 USA dataset is a scientific online publication that focuses on COVID-19 Pandemic in united states.\n",
    "\n",
    "    https://www.kaggle.com/\n"
   ]
  },
  {
   "cell_type": "markdown",
   "metadata": {},
   "source": [
    "if you dont have a kaggle account you can skip to (df = pd.read_csv('US_covid_data.csv')), but you must know that the data wont be uptodate"
   ]
  },
  {
   "cell_type": "code",
   "execution_count": 2,
   "metadata": {},
   "outputs": [
    {
     "name": "stdout",
     "output_type": "stream",
     "text": [
      "Skipping, found downloaded files in \".\\us-covid19-dataset-live-hourlydaily-updates\" (use force=True to force download)\n"
     ]
    }
   ],
   "source": [
    "# NY-TIMES COVID-19 USA dataset URL:\n",
    "url = 'https://www.kaggle.com/datasets/imoore/us-covid19-dataset-live-hourlydaily-updates'\n",
    "\n",
    "# Retrive .CSV file from kaggle\n",
    "od.download('https://www.kaggle.com/datasets/imoore/us-covid19-dataset-live-hourlydaily-updates')"
   ]
  },
  {
   "cell_type": "markdown",
   "metadata": {},
   "source": [
    "Then we can read it with Pandas using the module .read_cvs()"
   ]
  },
  {
   "cell_type": "code",
   "execution_count": 3,
   "metadata": {},
   "outputs": [
    {
     "data": {
      "text/html": [
       "<div>\n",
       "<style scoped>\n",
       "    .dataframe tbody tr th:only-of-type {\n",
       "        vertical-align: middle;\n",
       "    }\n",
       "\n",
       "    .dataframe tbody tr th {\n",
       "        vertical-align: top;\n",
       "    }\n",
       "\n",
       "    .dataframe thead th {\n",
       "        text-align: right;\n",
       "    }\n",
       "</style>\n",
       "<table border=\"1\" class=\"dataframe\">\n",
       "  <thead>\n",
       "    <tr style=\"text-align: right;\">\n",
       "      <th></th>\n",
       "      <th>date</th>\n",
       "      <th>state</th>\n",
       "      <th>fips</th>\n",
       "      <th>cases</th>\n",
       "      <th>deaths</th>\n",
       "    </tr>\n",
       "  </thead>\n",
       "  <tbody>\n",
       "    <tr>\n",
       "      <th>0</th>\n",
       "      <td>2020-01-21</td>\n",
       "      <td>Washington</td>\n",
       "      <td>53</td>\n",
       "      <td>1</td>\n",
       "      <td>0</td>\n",
       "    </tr>\n",
       "    <tr>\n",
       "      <th>1</th>\n",
       "      <td>2020-01-22</td>\n",
       "      <td>Washington</td>\n",
       "      <td>53</td>\n",
       "      <td>1</td>\n",
       "      <td>0</td>\n",
       "    </tr>\n",
       "    <tr>\n",
       "      <th>2</th>\n",
       "      <td>2020-01-23</td>\n",
       "      <td>Washington</td>\n",
       "      <td>53</td>\n",
       "      <td>1</td>\n",
       "      <td>0</td>\n",
       "    </tr>\n",
       "    <tr>\n",
       "      <th>3</th>\n",
       "      <td>2020-01-24</td>\n",
       "      <td>Illinois</td>\n",
       "      <td>17</td>\n",
       "      <td>1</td>\n",
       "      <td>0</td>\n",
       "    </tr>\n",
       "    <tr>\n",
       "      <th>4</th>\n",
       "      <td>2020-01-24</td>\n",
       "      <td>Washington</td>\n",
       "      <td>53</td>\n",
       "      <td>1</td>\n",
       "      <td>0</td>\n",
       "    </tr>\n",
       "  </tbody>\n",
       "</table>\n",
       "</div>"
      ],
      "text/plain": [
       "         date       state  fips  cases  deaths\n",
       "0  2020-01-21  Washington    53      1       0\n",
       "1  2020-01-22  Washington    53      1       0\n",
       "2  2020-01-23  Washington    53      1       0\n",
       "3  2020-01-24    Illinois    17      1       0\n",
       "4  2020-01-24  Washington    53      1       0"
      ]
     },
     "execution_count": 3,
     "metadata": {},
     "output_type": "execute_result"
    }
   ],
   "source": [
    "df = pd.read_csv('./us-covid19-dataset-live-hourlydaily-updates/States.csv')\n",
    "df.head()"
   ]
  },
  {
   "cell_type": "markdown",
   "metadata": {},
   "source": [
    "Just by observing at the printed data frame it is easy to observe the following:\n",
    "\n",
    "    The file provides data from each state\n",
    "    The data is categorized by date and state\n",
    "    The data is provided in a Regular basis\n",
    "    There are several metrics inside the dataset.\n",
    "\n",
    "It is important to keep in mind that this data is officially reported data, which means that the actual number of cases, deaths and more metrics presented in here may be higher, since not all the cases are diagnosed as COVID-19 cases."
   ]
  },
  {
   "cell_type": "markdown",
   "metadata": {},
   "source": [
    "One can see the basic information of the data frame using the .info() method."
   ]
  },
  {
   "cell_type": "code",
   "execution_count": 4,
   "metadata": {},
   "outputs": [
    {
     "name": "stdout",
     "output_type": "stream",
     "text": [
      "<class 'pandas.core.frame.DataFrame'>\n",
      "RangeIndex: 42566 entries, 0 to 42565\n",
      "Data columns (total 5 columns):\n",
      " #   Column  Non-Null Count  Dtype \n",
      "---  ------  --------------  ----- \n",
      " 0   date    42566 non-null  object\n",
      " 1   state   42566 non-null  object\n",
      " 2   fips    42566 non-null  int64 \n",
      " 3   cases   42566 non-null  int64 \n",
      " 4   deaths  42566 non-null  int64 \n",
      "dtypes: int64(3), object(2)\n",
      "memory usage: 1.6+ MB\n"
     ]
    }
   ],
   "source": [
    "df.info()"
   ]
  },
  {
   "cell_type": "markdown",
   "metadata": {},
   "source": [
    "From the information above, we can observe that the dataset has 4 columns with different type of data focusing on:\n",
    "\n",
    "    Cases (Positive diagnosed cases)\n",
    "    Deaths (Deaths related to COVID-19)\n"
   ]
  },
  {
   "cell_type": "markdown",
   "metadata": {},
   "source": [
    "#### Creating Data Frames\n",
    "\n",
    "We will focus on cases and deaths So there is no need for fips column  so let's drop it i"
   ]
  },
  {
   "cell_type": "code",
   "execution_count": 5,
   "metadata": {},
   "outputs": [],
   "source": [
    "## Let us drop the fips column from dataset, as follows:\n",
    "df.drop('fips', axis=1, inplace=True)"
   ]
  },
  {
   "cell_type": "code",
   "execution_count": 6,
   "metadata": {},
   "outputs": [
    {
     "data": {
      "text/html": [
       "<div>\n",
       "<style scoped>\n",
       "    .dataframe tbody tr th:only-of-type {\n",
       "        vertical-align: middle;\n",
       "    }\n",
       "\n",
       "    .dataframe tbody tr th {\n",
       "        vertical-align: top;\n",
       "    }\n",
       "\n",
       "    .dataframe thead th {\n",
       "        text-align: right;\n",
       "    }\n",
       "</style>\n",
       "<table border=\"1\" class=\"dataframe\">\n",
       "  <thead>\n",
       "    <tr style=\"text-align: right;\">\n",
       "      <th></th>\n",
       "      <th>date</th>\n",
       "      <th>state</th>\n",
       "      <th>cases</th>\n",
       "      <th>deaths</th>\n",
       "    </tr>\n",
       "  </thead>\n",
       "  <tbody>\n",
       "    <tr>\n",
       "      <th>0</th>\n",
       "      <td>2020-01-21</td>\n",
       "      <td>Washington</td>\n",
       "      <td>1</td>\n",
       "      <td>0</td>\n",
       "    </tr>\n",
       "    <tr>\n",
       "      <th>1</th>\n",
       "      <td>2020-01-22</td>\n",
       "      <td>Washington</td>\n",
       "      <td>1</td>\n",
       "      <td>0</td>\n",
       "    </tr>\n",
       "    <tr>\n",
       "      <th>2</th>\n",
       "      <td>2020-01-23</td>\n",
       "      <td>Washington</td>\n",
       "      <td>1</td>\n",
       "      <td>0</td>\n",
       "    </tr>\n",
       "    <tr>\n",
       "      <th>3</th>\n",
       "      <td>2020-01-24</td>\n",
       "      <td>Illinois</td>\n",
       "      <td>1</td>\n",
       "      <td>0</td>\n",
       "    </tr>\n",
       "    <tr>\n",
       "      <th>4</th>\n",
       "      <td>2020-01-24</td>\n",
       "      <td>Washington</td>\n",
       "      <td>1</td>\n",
       "      <td>0</td>\n",
       "    </tr>\n",
       "  </tbody>\n",
       "</table>\n",
       "</div>"
      ],
      "text/plain": [
       "         date       state  cases  deaths\n",
       "0  2020-01-21  Washington      1       0\n",
       "1  2020-01-22  Washington      1       0\n",
       "2  2020-01-23  Washington      1       0\n",
       "3  2020-01-24    Illinois      1       0\n",
       "4  2020-01-24  Washington      1       0"
      ]
     },
     "execution_count": 6,
     "metadata": {},
     "output_type": "execute_result"
    }
   ],
   "source": [
    "## Let us see the dataset\n",
    "df.head()"
   ]
  },
  {
   "cell_type": "markdown",
   "metadata": {},
   "source": [
    "Now, let us create new .CSV file based on the recently crated data frame . To do so, you can use the method to_cvs(), from Pandas, which creates a CVS file from a data frame.\n",
    "\n",
    "notice that the second argument of the method is index=False, this is to avoid passing the high numbers from the original dataset."
   ]
  },
  {
   "cell_type": "code",
   "execution_count": 7,
   "metadata": {},
   "outputs": [],
   "source": [
    "# save the data\n",
    "\n",
    "df.to_csv('US_covid_data.csv', index=False)"
   ]
  },
  {
   "cell_type": "markdown",
   "metadata": {},
   "source": [
    "By saving the data frames before start cleaning or modifying the data frames warranties that we have a backup of the data, without the need to redo the data filtration."
   ]
  },
  {
   "cell_type": "markdown",
   "metadata": {},
   "source": [
    "#### Cleaning the DataFrame\n",
    "\n",
    "Before starting to work with the data frame, it is important to verify that all the information was input correctly and in a reasonable manner."
   ]
  },
  {
   "cell_type": "markdown",
   "metadata": {},
   "source": [
    "We will read the new CSV files created in the previous sections."
   ]
  },
  {
   "cell_type": "code",
   "execution_count": 8,
   "metadata": {},
   "outputs": [],
   "source": [
    "# Read CSV file\n",
    "df = pd.read_csv('US_covid_data.csv')"
   ]
  },
  {
   "cell_type": "markdown",
   "metadata": {},
   "source": [
    "Let us verify that each of the data frames were imported correctly by printing the first and last 5 rows.\n",
    "\n",
    "To print the first 5 rows of a data frame, we can use the .head() method, for example:"
   ]
  },
  {
   "cell_type": "code",
   "execution_count": 9,
   "metadata": {},
   "outputs": [
    {
     "data": {
      "text/html": [
       "<div>\n",
       "<style scoped>\n",
       "    .dataframe tbody tr th:only-of-type {\n",
       "        vertical-align: middle;\n",
       "    }\n",
       "\n",
       "    .dataframe tbody tr th {\n",
       "        vertical-align: top;\n",
       "    }\n",
       "\n",
       "    .dataframe thead th {\n",
       "        text-align: right;\n",
       "    }\n",
       "</style>\n",
       "<table border=\"1\" class=\"dataframe\">\n",
       "  <thead>\n",
       "    <tr style=\"text-align: right;\">\n",
       "      <th></th>\n",
       "      <th>date</th>\n",
       "      <th>state</th>\n",
       "      <th>cases</th>\n",
       "      <th>deaths</th>\n",
       "    </tr>\n",
       "  </thead>\n",
       "  <tbody>\n",
       "    <tr>\n",
       "      <th>0</th>\n",
       "      <td>2020-01-21</td>\n",
       "      <td>Washington</td>\n",
       "      <td>1</td>\n",
       "      <td>0</td>\n",
       "    </tr>\n",
       "    <tr>\n",
       "      <th>1</th>\n",
       "      <td>2020-01-22</td>\n",
       "      <td>Washington</td>\n",
       "      <td>1</td>\n",
       "      <td>0</td>\n",
       "    </tr>\n",
       "    <tr>\n",
       "      <th>2</th>\n",
       "      <td>2020-01-23</td>\n",
       "      <td>Washington</td>\n",
       "      <td>1</td>\n",
       "      <td>0</td>\n",
       "    </tr>\n",
       "    <tr>\n",
       "      <th>3</th>\n",
       "      <td>2020-01-24</td>\n",
       "      <td>Illinois</td>\n",
       "      <td>1</td>\n",
       "      <td>0</td>\n",
       "    </tr>\n",
       "    <tr>\n",
       "      <th>4</th>\n",
       "      <td>2020-01-24</td>\n",
       "      <td>Washington</td>\n",
       "      <td>1</td>\n",
       "      <td>0</td>\n",
       "    </tr>\n",
       "  </tbody>\n",
       "</table>\n",
       "</div>"
      ],
      "text/plain": [
       "         date       state  cases  deaths\n",
       "0  2020-01-21  Washington      1       0\n",
       "1  2020-01-22  Washington      1       0\n",
       "2  2020-01-23  Washington      1       0\n",
       "3  2020-01-24    Illinois      1       0\n",
       "4  2020-01-24  Washington      1       0"
      ]
     },
     "execution_count": 9,
     "metadata": {},
     "output_type": "execute_result"
    }
   ],
   "source": [
    "df.head(5)"
   ]
  },
  {
   "cell_type": "markdown",
   "metadata": {},
   "source": [
    "Now, let us do the same with the bottom of the data frames:"
   ]
  },
  {
   "cell_type": "code",
   "execution_count": 10,
   "metadata": {},
   "outputs": [
    {
     "data": {
      "text/html": [
       "<div>\n",
       "<style scoped>\n",
       "    .dataframe tbody tr th:only-of-type {\n",
       "        vertical-align: middle;\n",
       "    }\n",
       "\n",
       "    .dataframe tbody tr th {\n",
       "        vertical-align: top;\n",
       "    }\n",
       "\n",
       "    .dataframe thead th {\n",
       "        text-align: right;\n",
       "    }\n",
       "</style>\n",
       "<table border=\"1\" class=\"dataframe\">\n",
       "  <thead>\n",
       "    <tr style=\"text-align: right;\">\n",
       "      <th></th>\n",
       "      <th>date</th>\n",
       "      <th>state</th>\n",
       "      <th>cases</th>\n",
       "      <th>deaths</th>\n",
       "    </tr>\n",
       "  </thead>\n",
       "  <tbody>\n",
       "    <tr>\n",
       "      <th>42561</th>\n",
       "      <td>2022-04-11</td>\n",
       "      <td>Virginia</td>\n",
       "      <td>1678215</td>\n",
       "      <td>19884</td>\n",
       "    </tr>\n",
       "    <tr>\n",
       "      <th>42562</th>\n",
       "      <td>2022-04-11</td>\n",
       "      <td>Washington</td>\n",
       "      <td>1469439</td>\n",
       "      <td>12627</td>\n",
       "    </tr>\n",
       "    <tr>\n",
       "      <th>42563</th>\n",
       "      <td>2022-04-11</td>\n",
       "      <td>West Virginia</td>\n",
       "      <td>498542</td>\n",
       "      <td>6755</td>\n",
       "    </tr>\n",
       "    <tr>\n",
       "      <th>42564</th>\n",
       "      <td>2022-04-11</td>\n",
       "      <td>Wisconsin</td>\n",
       "      <td>1591806</td>\n",
       "      <td>14349</td>\n",
       "    </tr>\n",
       "    <tr>\n",
       "      <th>42565</th>\n",
       "      <td>2022-04-11</td>\n",
       "      <td>Wyoming</td>\n",
       "      <td>156281</td>\n",
       "      <td>1796</td>\n",
       "    </tr>\n",
       "  </tbody>\n",
       "</table>\n",
       "</div>"
      ],
      "text/plain": [
       "             date          state    cases  deaths\n",
       "42561  2022-04-11       Virginia  1678215   19884\n",
       "42562  2022-04-11     Washington  1469439   12627\n",
       "42563  2022-04-11  West Virginia   498542    6755\n",
       "42564  2022-04-11      Wisconsin  1591806   14349\n",
       "42565  2022-04-11        Wyoming   156281    1796"
      ]
     },
     "execution_count": 10,
     "metadata": {},
     "output_type": "execute_result"
    }
   ],
   "source": [
    "df.tail(5)"
   ]
  },
  {
   "cell_type": "markdown",
   "metadata": {},
   "source": [
    "We know that the date is in a YEAR-MONTH-DAY format, but it would be good to have it in separate columns for an easier access to the information.\n",
    "\n",
    "For that we can this with .DatetimeIndex(), which splits the date in the desire format as follows:"
   ]
  },
  {
   "cell_type": "code",
   "execution_count": 11,
   "metadata": {},
   "outputs": [
    {
     "data": {
      "text/html": [
       "<div>\n",
       "<style scoped>\n",
       "    .dataframe tbody tr th:only-of-type {\n",
       "        vertical-align: middle;\n",
       "    }\n",
       "\n",
       "    .dataframe tbody tr th {\n",
       "        vertical-align: top;\n",
       "    }\n",
       "\n",
       "    .dataframe thead th {\n",
       "        text-align: right;\n",
       "    }\n",
       "</style>\n",
       "<table border=\"1\" class=\"dataframe\">\n",
       "  <thead>\n",
       "    <tr style=\"text-align: right;\">\n",
       "      <th></th>\n",
       "      <th>date</th>\n",
       "      <th>state</th>\n",
       "      <th>cases</th>\n",
       "      <th>deaths</th>\n",
       "      <th>month</th>\n",
       "      <th>day</th>\n",
       "      <th>year</th>\n",
       "    </tr>\n",
       "  </thead>\n",
       "  <tbody>\n",
       "    <tr>\n",
       "      <th>0</th>\n",
       "      <td>2020-01-21</td>\n",
       "      <td>Washington</td>\n",
       "      <td>1</td>\n",
       "      <td>0</td>\n",
       "      <td>1</td>\n",
       "      <td>21</td>\n",
       "      <td>2020</td>\n",
       "    </tr>\n",
       "    <tr>\n",
       "      <th>1</th>\n",
       "      <td>2020-01-22</td>\n",
       "      <td>Washington</td>\n",
       "      <td>1</td>\n",
       "      <td>0</td>\n",
       "      <td>1</td>\n",
       "      <td>22</td>\n",
       "      <td>2020</td>\n",
       "    </tr>\n",
       "    <tr>\n",
       "      <th>2</th>\n",
       "      <td>2020-01-23</td>\n",
       "      <td>Washington</td>\n",
       "      <td>1</td>\n",
       "      <td>0</td>\n",
       "      <td>1</td>\n",
       "      <td>23</td>\n",
       "      <td>2020</td>\n",
       "    </tr>\n",
       "    <tr>\n",
       "      <th>3</th>\n",
       "      <td>2020-01-24</td>\n",
       "      <td>Illinois</td>\n",
       "      <td>1</td>\n",
       "      <td>0</td>\n",
       "      <td>1</td>\n",
       "      <td>24</td>\n",
       "      <td>2020</td>\n",
       "    </tr>\n",
       "    <tr>\n",
       "      <th>4</th>\n",
       "      <td>2020-01-24</td>\n",
       "      <td>Washington</td>\n",
       "      <td>1</td>\n",
       "      <td>0</td>\n",
       "      <td>1</td>\n",
       "      <td>24</td>\n",
       "      <td>2020</td>\n",
       "    </tr>\n",
       "    <tr>\n",
       "      <th>...</th>\n",
       "      <td>...</td>\n",
       "      <td>...</td>\n",
       "      <td>...</td>\n",
       "      <td>...</td>\n",
       "      <td>...</td>\n",
       "      <td>...</td>\n",
       "      <td>...</td>\n",
       "    </tr>\n",
       "    <tr>\n",
       "      <th>42561</th>\n",
       "      <td>2022-04-11</td>\n",
       "      <td>Virginia</td>\n",
       "      <td>1678215</td>\n",
       "      <td>19884</td>\n",
       "      <td>4</td>\n",
       "      <td>11</td>\n",
       "      <td>2022</td>\n",
       "    </tr>\n",
       "    <tr>\n",
       "      <th>42562</th>\n",
       "      <td>2022-04-11</td>\n",
       "      <td>Washington</td>\n",
       "      <td>1469439</td>\n",
       "      <td>12627</td>\n",
       "      <td>4</td>\n",
       "      <td>11</td>\n",
       "      <td>2022</td>\n",
       "    </tr>\n",
       "    <tr>\n",
       "      <th>42563</th>\n",
       "      <td>2022-04-11</td>\n",
       "      <td>West Virginia</td>\n",
       "      <td>498542</td>\n",
       "      <td>6755</td>\n",
       "      <td>4</td>\n",
       "      <td>11</td>\n",
       "      <td>2022</td>\n",
       "    </tr>\n",
       "    <tr>\n",
       "      <th>42564</th>\n",
       "      <td>2022-04-11</td>\n",
       "      <td>Wisconsin</td>\n",
       "      <td>1591806</td>\n",
       "      <td>14349</td>\n",
       "      <td>4</td>\n",
       "      <td>11</td>\n",
       "      <td>2022</td>\n",
       "    </tr>\n",
       "    <tr>\n",
       "      <th>42565</th>\n",
       "      <td>2022-04-11</td>\n",
       "      <td>Wyoming</td>\n",
       "      <td>156281</td>\n",
       "      <td>1796</td>\n",
       "      <td>4</td>\n",
       "      <td>11</td>\n",
       "      <td>2022</td>\n",
       "    </tr>\n",
       "  </tbody>\n",
       "</table>\n",
       "<p>42566 rows × 7 columns</p>\n",
       "</div>"
      ],
      "text/plain": [
       "             date          state    cases  deaths  month  day  year\n",
       "0      2020-01-21     Washington        1       0      1   21  2020\n",
       "1      2020-01-22     Washington        1       0      1   22  2020\n",
       "2      2020-01-23     Washington        1       0      1   23  2020\n",
       "3      2020-01-24       Illinois        1       0      1   24  2020\n",
       "4      2020-01-24     Washington        1       0      1   24  2020\n",
       "...           ...            ...      ...     ...    ...  ...   ...\n",
       "42561  2022-04-11       Virginia  1678215   19884      4   11  2022\n",
       "42562  2022-04-11     Washington  1469439   12627      4   11  2022\n",
       "42563  2022-04-11  West Virginia   498542    6755      4   11  2022\n",
       "42564  2022-04-11      Wisconsin  1591806   14349      4   11  2022\n",
       "42565  2022-04-11        Wyoming   156281    1796      4   11  2022\n",
       "\n",
       "[42566 rows x 7 columns]"
      ]
     },
     "execution_count": 11,
     "metadata": {},
     "output_type": "execute_result"
    }
   ],
   "source": [
    "# Split the column date into, month, day, year, weekday\n",
    "df['month'] = pd.DatetimeIndex(df.date).month\n",
    "df['day'] = pd.DatetimeIndex(df.date).day\n",
    "df['year'] = pd.DatetimeIndex(df.date).year\n",
    "df"
   ]
  },
  {
   "cell_type": "markdown",
   "metadata": {},
   "source": [
    "As we can see, at the very right of the data frame we have 4 new columns, month, day, and year."
   ]
  },
  {
   "cell_type": "markdown",
   "metadata": {},
   "source": [
    "Now lets Check for NaN."
   ]
  },
  {
   "cell_type": "code",
   "execution_count": 12,
   "metadata": {},
   "outputs": [
    {
     "data": {
      "text/plain": [
       "False"
      ]
     },
     "execution_count": 12,
     "metadata": {},
     "output_type": "execute_result"
    }
   ],
   "source": [
    "df.isnull().values.any()"
   ]
  },
  {
   "cell_type": "markdown",
   "metadata": {},
   "source": [
    "as we can see ther is no Nan values in the Dataset"
   ]
  },
  {
   "cell_type": "markdown",
   "metadata": {},
   "source": [
    "Now that we have the datasets separately we can perform a quick statistical by using the .describe() method which returns information such as mean, standard deviation, minimum/maximum values and number of non-empty values."
   ]
  },
  {
   "cell_type": "code",
   "execution_count": 13,
   "metadata": {},
   "outputs": [
    {
     "data": {
      "text/html": [
       "<div>\n",
       "<style scoped>\n",
       "    .dataframe tbody tr th:only-of-type {\n",
       "        vertical-align: middle;\n",
       "    }\n",
       "\n",
       "    .dataframe tbody tr th {\n",
       "        vertical-align: top;\n",
       "    }\n",
       "\n",
       "    .dataframe thead th {\n",
       "        text-align: right;\n",
       "    }\n",
       "</style>\n",
       "<table border=\"1\" class=\"dataframe\">\n",
       "  <thead>\n",
       "    <tr style=\"text-align: right;\">\n",
       "      <th></th>\n",
       "      <th>cases</th>\n",
       "      <th>deaths</th>\n",
       "      <th>month</th>\n",
       "      <th>day</th>\n",
       "      <th>year</th>\n",
       "    </tr>\n",
       "  </thead>\n",
       "  <tbody>\n",
       "    <tr>\n",
       "      <th>count</th>\n",
       "      <td>4.256600e+04</td>\n",
       "      <td>42566.000000</td>\n",
       "      <td>42566.000000</td>\n",
       "      <td>42566.000000</td>\n",
       "      <td>42566.000000</td>\n",
       "    </tr>\n",
       "    <tr>\n",
       "      <th>mean</th>\n",
       "      <td>5.289421e+05</td>\n",
       "      <td>8538.260725</td>\n",
       "      <td>6.350421</td>\n",
       "      <td>15.684232</td>\n",
       "      <td>2020.739745</td>\n",
       "    </tr>\n",
       "    <tr>\n",
       "      <th>std</th>\n",
       "      <td>9.162382e+05</td>\n",
       "      <td>13459.921682</td>\n",
       "      <td>3.447961</td>\n",
       "      <td>8.807076</td>\n",
       "      <td>0.676967</td>\n",
       "    </tr>\n",
       "    <tr>\n",
       "      <th>min</th>\n",
       "      <td>1.000000e+00</td>\n",
       "      <td>0.000000</td>\n",
       "      <td>1.000000</td>\n",
       "      <td>1.000000</td>\n",
       "      <td>2020.000000</td>\n",
       "    </tr>\n",
       "    <tr>\n",
       "      <th>25%</th>\n",
       "      <td>3.360850e+04</td>\n",
       "      <td>617.000000</td>\n",
       "      <td>3.000000</td>\n",
       "      <td>8.000000</td>\n",
       "      <td>2020.000000</td>\n",
       "    </tr>\n",
       "    <tr>\n",
       "      <th>50%</th>\n",
       "      <td>1.903305e+05</td>\n",
       "      <td>3066.000000</td>\n",
       "      <td>6.000000</td>\n",
       "      <td>16.000000</td>\n",
       "      <td>2021.000000</td>\n",
       "    </tr>\n",
       "    <tr>\n",
       "      <th>75%</th>\n",
       "      <td>6.498182e+05</td>\n",
       "      <td>10383.500000</td>\n",
       "      <td>9.000000</td>\n",
       "      <td>23.000000</td>\n",
       "      <td>2021.000000</td>\n",
       "    </tr>\n",
       "    <tr>\n",
       "      <th>max</th>\n",
       "      <td>9.134794e+06</td>\n",
       "      <td>89484.000000</td>\n",
       "      <td>12.000000</td>\n",
       "      <td>31.000000</td>\n",
       "      <td>2022.000000</td>\n",
       "    </tr>\n",
       "  </tbody>\n",
       "</table>\n",
       "</div>"
      ],
      "text/plain": [
       "              cases        deaths         month           day          year\n",
       "count  4.256600e+04  42566.000000  42566.000000  42566.000000  42566.000000\n",
       "mean   5.289421e+05   8538.260725      6.350421     15.684232   2020.739745\n",
       "std    9.162382e+05  13459.921682      3.447961      8.807076      0.676967\n",
       "min    1.000000e+00      0.000000      1.000000      1.000000   2020.000000\n",
       "25%    3.360850e+04    617.000000      3.000000      8.000000   2020.000000\n",
       "50%    1.903305e+05   3066.000000      6.000000     16.000000   2021.000000\n",
       "75%    6.498182e+05  10383.500000      9.000000     23.000000   2021.000000\n",
       "max    9.134794e+06  89484.000000     12.000000     31.000000   2022.000000"
      ]
     },
     "execution_count": 13,
     "metadata": {},
     "output_type": "execute_result"
    }
   ],
   "source": [
    "df.describe()"
   ]
  },
  {
   "cell_type": "markdown",
   "metadata": {},
   "source": [
    "We can use the .sample method to retrieve a random sample of rows from the data frame."
   ]
  },
  {
   "cell_type": "code",
   "execution_count": 14,
   "metadata": {},
   "outputs": [
    {
     "data": {
      "text/html": [
       "<div>\n",
       "<style scoped>\n",
       "    .dataframe tbody tr th:only-of-type {\n",
       "        vertical-align: middle;\n",
       "    }\n",
       "\n",
       "    .dataframe tbody tr th {\n",
       "        vertical-align: top;\n",
       "    }\n",
       "\n",
       "    .dataframe thead th {\n",
       "        text-align: right;\n",
       "    }\n",
       "</style>\n",
       "<table border=\"1\" class=\"dataframe\">\n",
       "  <thead>\n",
       "    <tr style=\"text-align: right;\">\n",
       "      <th></th>\n",
       "      <th>date</th>\n",
       "      <th>state</th>\n",
       "      <th>cases</th>\n",
       "      <th>deaths</th>\n",
       "      <th>month</th>\n",
       "      <th>day</th>\n",
       "      <th>year</th>\n",
       "    </tr>\n",
       "  </thead>\n",
       "  <tbody>\n",
       "    <tr>\n",
       "      <th>2263</th>\n",
       "      <td>2020-04-12</td>\n",
       "      <td>Virgin Islands</td>\n",
       "      <td>51</td>\n",
       "      <td>1</td>\n",
       "      <td>4</td>\n",
       "      <td>12</td>\n",
       "      <td>2020</td>\n",
       "    </tr>\n",
       "    <tr>\n",
       "      <th>26633</th>\n",
       "      <td>2021-06-29</td>\n",
       "      <td>Wyoming</td>\n",
       "      <td>62195</td>\n",
       "      <td>747</td>\n",
       "      <td>6</td>\n",
       "      <td>29</td>\n",
       "      <td>2021</td>\n",
       "    </tr>\n",
       "    <tr>\n",
       "      <th>42015</th>\n",
       "      <td>2022-04-02</td>\n",
       "      <td>District of Columbia</td>\n",
       "      <td>136886</td>\n",
       "      <td>1333</td>\n",
       "      <td>4</td>\n",
       "      <td>2</td>\n",
       "      <td>2022</td>\n",
       "    </tr>\n",
       "    <tr>\n",
       "      <th>14197</th>\n",
       "      <td>2020-11-15</td>\n",
       "      <td>Vermont</td>\n",
       "      <td>2889</td>\n",
       "      <td>59</td>\n",
       "      <td>11</td>\n",
       "      <td>15</td>\n",
       "      <td>2020</td>\n",
       "    </tr>\n",
       "    <tr>\n",
       "      <th>37582</th>\n",
       "      <td>2022-01-13</td>\n",
       "      <td>Alabama</td>\n",
       "      <td>1004622</td>\n",
       "      <td>16641</td>\n",
       "      <td>1</td>\n",
       "      <td>13</td>\n",
       "      <td>2022</td>\n",
       "    </tr>\n",
       "    <tr>\n",
       "      <th>39271</th>\n",
       "      <td>2022-02-12</td>\n",
       "      <td>District of Columbia</td>\n",
       "      <td>132820</td>\n",
       "      <td>1309</td>\n",
       "      <td>2</td>\n",
       "      <td>12</td>\n",
       "      <td>2022</td>\n",
       "    </tr>\n",
       "    <tr>\n",
       "      <th>14574</th>\n",
       "      <td>2020-11-22</td>\n",
       "      <td>Pennsylvania</td>\n",
       "      <td>313788</td>\n",
       "      <td>9901</td>\n",
       "      <td>11</td>\n",
       "      <td>22</td>\n",
       "      <td>2020</td>\n",
       "    </tr>\n",
       "    <tr>\n",
       "      <th>30964</th>\n",
       "      <td>2021-09-16</td>\n",
       "      <td>Pennsylvania</td>\n",
       "      <td>1365049</td>\n",
       "      <td>28768</td>\n",
       "      <td>9</td>\n",
       "      <td>16</td>\n",
       "      <td>2021</td>\n",
       "    </tr>\n",
       "    <tr>\n",
       "      <th>37941</th>\n",
       "      <td>2022-01-19</td>\n",
       "      <td>Massachusetts</td>\n",
       "      <td>1503398</td>\n",
       "      <td>21208</td>\n",
       "      <td>1</td>\n",
       "      <td>19</td>\n",
       "      <td>2022</td>\n",
       "    </tr>\n",
       "    <tr>\n",
       "      <th>3146</th>\n",
       "      <td>2020-04-28</td>\n",
       "      <td>West Virginia</td>\n",
       "      <td>1096</td>\n",
       "      <td>38</td>\n",
       "      <td>4</td>\n",
       "      <td>28</td>\n",
       "      <td>2020</td>\n",
       "    </tr>\n",
       "  </tbody>\n",
       "</table>\n",
       "</div>"
      ],
      "text/plain": [
       "             date                 state    cases  deaths  month  day  year\n",
       "2263   2020-04-12        Virgin Islands       51       1      4   12  2020\n",
       "26633  2021-06-29               Wyoming    62195     747      6   29  2021\n",
       "42015  2022-04-02  District of Columbia   136886    1333      4    2  2022\n",
       "14197  2020-11-15               Vermont     2889      59     11   15  2020\n",
       "37582  2022-01-13               Alabama  1004622   16641      1   13  2022\n",
       "39271  2022-02-12  District of Columbia   132820    1309      2   12  2022\n",
       "14574  2020-11-22          Pennsylvania   313788    9901     11   22  2020\n",
       "30964  2021-09-16          Pennsylvania  1365049   28768      9   16  2021\n",
       "37941  2022-01-19         Massachusetts  1503398   21208      1   19  2022\n",
       "3146   2020-04-28         West Virginia     1096      38      4   28  2020"
      ]
     },
     "execution_count": 14,
     "metadata": {},
     "output_type": "execute_result"
    }
   ],
   "source": [
    "df.sample(10)"
   ]
  },
  {
   "cell_type": "markdown",
   "metadata": {},
   "source": [
    "## Analyzing data from data frames\n",
    "\n",
    "Let's try to answer some questions about our data."
   ]
  },
  {
   "cell_type": "markdown",
   "metadata": {},
   "source": [
    "#### Q1: When was the first confirmed case reported in United State?"
   ]
  },
  {
   "cell_type": "markdown",
   "metadata": {},
   "source": [
    "to answer this question we can use the .neor Not Equal to a certain value, in this case 0, and it can be applied to the new_cases series."
   ]
  },
  {
   "cell_type": "code",
   "execution_count": 15,
   "metadata": {},
   "outputs": [],
   "source": [
    "first_confirmed_case = df.date.loc[df['cases'].ne(0).idxmax()]\n",
    "state1 = df.state.loc[df['cases'].ne(0).idxmax()]"
   ]
  },
  {
   "cell_type": "code",
   "execution_count": 16,
   "metadata": {},
   "outputs": [
    {
     "name": "stdout",
     "output_type": "stream",
     "text": [
      "The first confirmed case in United State was was recorded in the state of Washington on 2020-01-21 \n"
     ]
    }
   ],
   "source": [
    "print(\"The first confirmed case in United State was was recorded in the state of {} on {} \".format(state1, str(first_confirmed_case)))"
   ]
  },
  {
   "cell_type": "markdown",
   "metadata": {},
   "source": [
    "#### Q2: When was the first death related to COVID-19 reported?"
   ]
  },
  {
   "cell_type": "code",
   "execution_count": 17,
   "metadata": {},
   "outputs": [],
   "source": [
    "first_death = df.date.loc[df['deaths'].ne(0).idxmax()]\n",
    "state2= df.state.loc[df['cases'].ne(0).idxmax()]"
   ]
  },
  {
   "cell_type": "code",
   "execution_count": 18,
   "metadata": {},
   "outputs": [
    {
     "name": "stdout",
     "output_type": "stream",
     "text": [
      "The first death related to COVID-19 in United State was reported in the state of Washington on 2020-02-29.\n"
     ]
    }
   ],
   "source": [
    "print(\"The first death related to COVID-19 in United State was reported in the state of {} on {}.\".format(state2, str(first_death)))"
   ]
  },
  {
   "cell_type": "markdown",
   "metadata": {},
   "source": [
    "#### Q3: What are the total number of reported cases and deaths related to Covid-19 in United State?"
   ]
  },
  {
   "cell_type": "code",
   "execution_count": 19,
   "metadata": {},
   "outputs": [],
   "source": [
    "# total deaths with out duplicate\n",
    "total_cases = df.groupby('state')['cases'].max().sum()"
   ]
  },
  {
   "cell_type": "code",
   "execution_count": 20,
   "metadata": {},
   "outputs": [],
   "source": [
    "# total deaths with out duplicate\n",
    "total_deaths = df.groupby('state')['deaths'].max().sum()"
   ]
  },
  {
   "cell_type": "code",
   "execution_count": 21,
   "metadata": {},
   "outputs": [
    {
     "name": "stdout",
     "output_type": "stream",
     "text": [
      "The number of reported cases is 80327835 and the number of reported deaths is 987849.\n"
     ]
    }
   ],
   "source": [
    "print('The number of reported cases is {} and the number of reported deaths is {}.'.format(int(total_cases), int(total_deaths)))"
   ]
  },
  {
   "cell_type": "markdown",
   "metadata": {},
   "source": [
    "#### Q4: What is the overall death rate (ratio of reported deaths to reported cases)?"
   ]
  },
  {
   "cell_type": "code",
   "execution_count": 22,
   "metadata": {},
   "outputs": [],
   "source": [
    "death_rate = total_deaths / total_cases"
   ]
  },
  {
   "cell_type": "code",
   "execution_count": 23,
   "metadata": {},
   "outputs": [
    {
     "name": "stdout",
     "output_type": "stream",
     "text": [
      "The overall reported death rate in United State is 1.23 %\n"
     ]
    }
   ],
   "source": [
    "print('The overall reported death rate in United State is {:.2f} %'.format(death_rate*100))"
   ]
  },
  {
   "cell_type": "markdown",
   "metadata": {},
   "source": [
    "#### Q5: wich stat have the highest cases recorded"
   ]
  },
  {
   "cell_type": "code",
   "execution_count": 24,
   "metadata": {},
   "outputs": [
    {
     "name": "stdout",
     "output_type": "stream",
     "text": [
      "The state with the highest cases recoreded so far is California with total recordrd cases 9134794\n"
     ]
    }
   ],
   "source": [
    "# total cases with out duplicate\n",
    "states_cases = df.groupby('state')['cases'].max()\n",
    "# the value of highest cases recored\n",
    "top_state_cases = states_cases.max()\n",
    "# the state id\n",
    "state_c = states_cases.idxmax()\n",
    "print('The state with the highest cases recoreded so far is {} with total recordrd cases {}'.format(state_c,  top_state_cases))"
   ]
  },
  {
   "cell_type": "markdown",
   "metadata": {},
   "source": [
    "#### Q6: wich stat have the highest deaths "
   ]
  },
  {
   "cell_type": "code",
   "execution_count": 25,
   "metadata": {},
   "outputs": [
    {
     "name": "stdout",
     "output_type": "stream",
     "text": [
      "The state with the highest death so far is California with total deaths 89484 \n"
     ]
    }
   ],
   "source": [
    "# total deaths with out duplicate\n",
    "states_deaths = df.groupby('state')['deaths'].max()\n",
    "# the value of highest deaths\n",
    "top_state_deaths = states_deaths.max()\n",
    "# the state id\n",
    "state_d =states_deaths.idxmax()\n",
    "print('The state with the highest death so far is {} with total deaths {} '.format(state_d,  top_state_deaths))"
   ]
  },
  {
   "cell_type": "markdown",
   "metadata": {},
   "source": [
    "#### Q7: wich stat have the highest deaths rate"
   ]
  },
  {
   "cell_type": "code",
   "execution_count": 26,
   "metadata": {},
   "outputs": [
    {
     "name": "stdout",
     "output_type": "stream",
     "text": [
      "The state with the highest death rate so far is Pennsylvania with total deaths 1.59 %\n"
     ]
    },
    {
     "name": "stderr",
     "output_type": "stream",
     "text": [
      "C:\\Users\\zain_\\AppData\\Local\\Temp/ipykernel_2652/2289633210.py:2: FutureWarning: Indexing with multiple keys (implicitly converted to a tuple of keys) will be deprecated, use a list instead.\n",
      "  states_rate = df.groupby('state')['state','cases','deaths'].max()\n"
     ]
    }
   ],
   "source": [
    "# lits creat a data table\n",
    "states_rate = df.groupby('state')['state','cases','deaths'].max()\n",
    "states_rate['deaths_rate'] = (states_rate['deaths'] / states_rate ['cases'])*100\n",
    "# lits creat a data table that contain stat name and deaths rate\n",
    "states_deaths_rate = states_rate.deaths_rate.max()\n",
    "states_deaths_rate_s = states_rate.deaths_rate.idxmax()\n",
    "\n",
    "print('The state with the highest death rate so far is {} with total deaths {:.2f} %'.format(states_deaths_rate_s,  states_deaths_rate))"
   ]
  },
  {
   "cell_type": "markdown",
   "metadata": {},
   "source": [
    "## Data Visualization"
   ]
  },
  {
   "cell_type": "markdown",
   "metadata": {},
   "source": [
    "In order to understand better the information in this dataset, it would be a good idea to visualize it in charts"
   ]
  },
  {
   "cell_type": "markdown",
   "metadata": {},
   "source": [
    "Let us start by setting up some parameters for the plots that we are going to create"
   ]
  },
  {
   "cell_type": "code",
   "execution_count": 27,
   "metadata": {},
   "outputs": [],
   "source": [
    "sns.set_style('darkgrid')\n",
    "matplotlib.rcParams['font.size'] = 14\n",
    "matplotlib.rcParams['figure.figsize'] = (13, 8)\n",
    "matplotlib.rcParams['figure.facecolor'] = '#00000000'"
   ]
  },
  {
   "cell_type": "markdown",
   "metadata": {},
   "source": [
    "#### Q8: What are the top 10 states with highest cases recorded?"
   ]
  },
  {
   "cell_type": "markdown",
   "metadata": {},
   "source": [
    "It will be easier to see this information ploted:"
   ]
  },
  {
   "cell_type": "code",
   "execution_count": 28,
   "metadata": {},
   "outputs": [
    {
     "data": {
      "image/png": "[encoded data removed]",
      "text/plain": [
       "<Figure size 936x576 with 1 Axes>"
      ]
     },
     "metadata": {
      "needs_background": "light"
     },
     "output_type": "display_data"
    }
   ],
   "source": [
    "t_states_c = df.groupby('state')['cases'].max().sort_values(ascending=False).head(10)\n",
    "sns.barplot(x=t_states_c.index, y=t_states_c)\n",
    "plt.xticks(rotation=75)\n",
    "plt.ylabel('Total Cases')\n",
    "plt.xlabel('State Name')\n",
    "plt.title('top 10 states with highest cases recorded?');"
   ]
  },
  {
   "cell_type": "markdown",
   "metadata": {},
   "source": [
    "we can see that California is the most affected state with covid followed by texas then Florida"
   ]
  },
  {
   "cell_type": "markdown",
   "metadata": {},
   "source": [
    "#### Q9: What are the top 10 states with highest deaths?"
   ]
  },
  {
   "cell_type": "markdown",
   "metadata": {},
   "source": [
    "It will be easier to see this information ploted:"
   ]
  },
  {
   "cell_type": "code",
   "execution_count": 29,
   "metadata": {},
   "outputs": [
    {
     "data": {
      "image/png": "[encoded data removed]",
      "text/plain": [
       "<Figure size 936x576 with 1 Axes>"
      ]
     },
     "metadata": {
      "needs_background": "light"
     },
     "output_type": "display_data"
    }
   ],
   "source": [
    "t_states_d = df.groupby('state')['deaths'].max().sort_values(ascending=False).head(10)\n",
    "sns.barplot(x=t_states_d.index, y=t_states_d)\n",
    "plt.xticks(rotation=75)\n",
    "plt.ylabel('Deaths')\n",
    "plt.xlabel('State Name')\n",
    "plt.title('top 10 states with highest Deaths?');"
   ]
  },
  {
   "cell_type": "markdown",
   "metadata": {},
   "source": [
    "we can see that California and Texas and Florida and new york are still the most affected by covid and have the highest deaths, but we also can see that Pennsylvania and Ohio have deaths more than Illinois."
   ]
  },
  {
   "cell_type": "markdown",
   "metadata": {},
   "source": [
    "Now let's create a file containing the top 15 states with the highest cases and deaths to use for visualization with tableau"
   ]
  },
  {
   "cell_type": "code",
   "execution_count": 30,
   "metadata": {},
   "outputs": [
    {
     "name": "stderr",
     "output_type": "stream",
     "text": [
      "C:\\Users\\zain_\\AppData\\Local\\Temp/ipykernel_2652/4189454376.py:1: FutureWarning: Indexing with multiple keys (implicitly converted to a tuple of keys) will be deprecated, use a list instead.\n",
      "  top_states = df.groupby('state')['state','cases','deaths'].max().sort_values(by='cases', ascending=False).head(15)\n"
     ]
    }
   ],
   "source": [
    "top_states = df.groupby('state')['state','cases','deaths'].max().sort_values(by='cases', ascending=False).head(15)\n",
    "top_states.to_csv('top_states.csv', index=False)"
   ]
  },
  {
   "cell_type": "markdown",
   "metadata": {},
   "source": [
    "#### Q10: What are the 10 states with the lowest cases recorded?"
   ]
  },
  {
   "cell_type": "markdown",
   "metadata": {},
   "source": [
    "It will be easier to see this information ploted:"
   ]
  },
  {
   "cell_type": "code",
   "execution_count": 31,
   "metadata": {},
   "outputs": [
    {
     "data": {
      "image/png": "[encoded data removed]",
      "text/plain": [
       "<Figure size 936x576 with 1 Axes>"
      ]
     },
     "metadata": {
      "needs_background": "light"
     },
     "output_type": "display_data"
    }
   ],
   "source": [
    "l_states_c = df.groupby('state')['cases'].max().sort_values().head(10)\n",
    "sns.barplot(x=l_states_c.index, y=l_states_c)\n",
    "plt.xticks(rotation=75)\n",
    "plt.ylabel('Total Cases')\n",
    "plt.xlabel('State Name')\n",
    "plt.title(' 10 states with the lowest cases recorded?');"
   ]
  },
  {
   "cell_type": "markdown",
   "metadata": {},
   "source": [
    "we can see that American Samoa has the lowest cases recorded folwed by Northern Mariana islands "
   ]
  },
  {
   "cell_type": "markdown",
   "metadata": {},
   "source": [
    "#### Q11: What are the 10 states with the lowest deaths?"
   ]
  },
  {
   "cell_type": "markdown",
   "metadata": {},
   "source": [
    "It will be easier to see this information ploted:"
   ]
  },
  {
   "cell_type": "code",
   "execution_count": 32,
   "metadata": {},
   "outputs": [
    {
     "data": {
      "image/png": "[encoded data removed]",
      "text/plain": [
       "<Figure size 936x576 with 1 Axes>"
      ]
     },
     "metadata": {
      "needs_background": "light"
     },
     "output_type": "display_data"
    }
   ],
   "source": [
    "l_states_d = df.groupby('state')['deaths'].max().sort_values().head(10)\n",
    "sns.barplot(x=l_states_d.index, y=l_states_d)\n",
    "plt.xticks(rotation=75)\n",
    "plt.ylabel('Deaths')\n",
    "plt.xlabel('State Name')\n",
    "plt.title(' 10 states with the lowest Deaths?');"
   ]
  },
  {
   "cell_type": "markdown",
   "metadata": {},
   "source": [
    "we can see that American Samoa has the lowest number of deaths"
   ]
  },
  {
   "cell_type": "markdown",
   "metadata": {},
   "source": [
    "Now let's create a file containing the lowest 15 states with the lowest cases and deaths to use for visualization with tableau"
   ]
  },
  {
   "cell_type": "code",
   "execution_count": 33,
   "metadata": {},
   "outputs": [
    {
     "name": "stderr",
     "output_type": "stream",
     "text": [
      "C:\\Users\\zain_\\AppData\\Local\\Temp/ipykernel_2652/2555061346.py:1: FutureWarning: Indexing with multiple keys (implicitly converted to a tuple of keys) will be deprecated, use a list instead.\n",
      "  lowest_states = df.groupby('state')['state','cases','deaths'].max().sort_values(by='cases').head(15)\n"
     ]
    }
   ],
   "source": [
    "lowest_states = df.groupby('state')['state','cases','deaths'].max().sort_values(by='cases').head(15)\n",
    "lowest_states.to_csv('lowest_states.csv', index=False)"
   ]
  },
  {
   "cell_type": "markdown",
   "metadata": {},
   "source": [
    "#### Q12: What are the 10 states with the highest deaths rate?"
   ]
  },
  {
   "cell_type": "markdown",
   "metadata": {},
   "source": [
    "It will be easier to see this information ploted:"
   ]
  },
  {
   "cell_type": "code",
   "execution_count": 34,
   "metadata": {},
   "outputs": [
    {
     "data": {
      "image/png": "[encoded data removed]",
      "text/plain": [
       "<Figure size 936x576 with 1 Axes>"
      ]
     },
     "metadata": {
      "needs_background": "light"
     },
     "output_type": "display_data"
    }
   ],
   "source": [
    "h_d_r = states_rate.deaths_rate.sort_values(ascending=False).head(10)\n",
    "h_d_r.plot(kind='bar')\n",
    "plt.xticks(rotation=75)\n",
    "plt.ylabel(\"Deaths rate (%)\")\n",
    "plt.xlabel(\"State Name\")\n",
    "plt.title(' 10 states with the highest deaths rate?');"
   ]
  },
  {
   "cell_type": "markdown",
   "metadata": {},
   "source": [
    "Although that California has the heights cases recorded and deaths we can't see in this chart and Surprisingly Pennsylvania has the highest deaths rate"
   ]
  },
  {
   "cell_type": "markdown",
   "metadata": {},
   "source": [
    "Now let's create a file containing the with deaths rate to use for visualization with tableau"
   ]
  },
  {
   "cell_type": "code",
   "execution_count": 42,
   "metadata": {},
   "outputs": [],
   "source": [
    "highest_d_stats = states_rate[['state', 'deaths_rate']].sort_values(by='deaths_rate', ascending=False).round(2)\n",
    "highest_d_stats.to_csv('highest_d_stats.csv', index=False)"
   ]
  },
  {
   "cell_type": "markdown",
   "metadata": {},
   "source": [
    "#### Q13: show the data in a map for better visualization!"
   ]
  },
  {
   "cell_type": "markdown",
   "metadata": {},
   "source": [
    "first, let's create a file with necessary data (state, cases, deaths, deaths rate, lat, lan)"
   ]
  },
  {
   "cell_type": "markdown",
   "metadata": {},
   "source": [
    "lets upload the lat and lan file"
   ]
  },
  {
   "cell_type": "code",
   "execution_count": 36,
   "metadata": {},
   "outputs": [
    {
     "data": {
      "text/html": [
       "<div>\n",
       "<style scoped>\n",
       "    .dataframe tbody tr th:only-of-type {\n",
       "        vertical-align: middle;\n",
       "    }\n",
       "\n",
       "    .dataframe tbody tr th {\n",
       "        vertical-align: top;\n",
       "    }\n",
       "\n",
       "    .dataframe thead th {\n",
       "        text-align: right;\n",
       "    }\n",
       "</style>\n",
       "<table border=\"1\" class=\"dataframe\">\n",
       "  <thead>\n",
       "    <tr style=\"text-align: right;\">\n",
       "      <th></th>\n",
       "      <th>lat</th>\n",
       "      <th>lon</th>\n",
       "    </tr>\n",
       "  </thead>\n",
       "  <tbody>\n",
       "    <tr>\n",
       "      <th>0</th>\n",
       "      <td>32.318231</td>\n",
       "      <td>-86.902298</td>\n",
       "    </tr>\n",
       "    <tr>\n",
       "      <th>1</th>\n",
       "      <td>63.588753</td>\n",
       "      <td>-154.493062</td>\n",
       "    </tr>\n",
       "    <tr>\n",
       "      <th>2</th>\n",
       "      <td>-14.270972</td>\n",
       "      <td>-170.132217</td>\n",
       "    </tr>\n",
       "    <tr>\n",
       "      <th>3</th>\n",
       "      <td>34.048928</td>\n",
       "      <td>-111.093731</td>\n",
       "    </tr>\n",
       "    <tr>\n",
       "      <th>4</th>\n",
       "      <td>35.201050</td>\n",
       "      <td>-91.831833</td>\n",
       "    </tr>\n",
       "  </tbody>\n",
       "</table>\n",
       "</div>"
      ],
      "text/plain": [
       "         lat         lon\n",
       "0  32.318231  -86.902298\n",
       "1  63.588753 -154.493062\n",
       "2 -14.270972 -170.132217\n",
       "3  34.048928 -111.093731\n",
       "4  35.201050  -91.831833"
      ]
     },
     "execution_count": 36,
     "metadata": {},
     "output_type": "execute_result"
    }
   ],
   "source": [
    "cord = pd.read_csv('coordinates.csv')\n",
    "cord.head()"
   ]
  },
  {
   "cell_type": "markdown",
   "metadata": {},
   "source": [
    "lets creat the file"
   ]
  },
  {
   "cell_type": "code",
   "execution_count": 37,
   "metadata": {},
   "outputs": [
    {
     "name": "stderr",
     "output_type": "stream",
     "text": [
      "C:\\Users\\zain_\\AppData\\Local\\Temp/ipykernel_2652/1034639186.py:2: FutureWarning: Indexing with multiple keys (implicitly converted to a tuple of keys) will be deprecated, use a list instead.\n",
      "  us_covied = us_covied.groupby('state')['state','cases', 'deaths'].max()\n"
     ]
    },
    {
     "data": {
      "text/html": [
       "<div>\n",
       "<style scoped>\n",
       "    .dataframe tbody tr th:only-of-type {\n",
       "        vertical-align: middle;\n",
       "    }\n",
       "\n",
       "    .dataframe tbody tr th {\n",
       "        vertical-align: top;\n",
       "    }\n",
       "\n",
       "    .dataframe thead th {\n",
       "        text-align: right;\n",
       "    }\n",
       "</style>\n",
       "<table border=\"1\" class=\"dataframe\">\n",
       "  <thead>\n",
       "    <tr style=\"text-align: right;\">\n",
       "      <th></th>\n",
       "      <th>state</th>\n",
       "      <th>cases</th>\n",
       "      <th>deaths</th>\n",
       "      <th>deaths_rate</th>\n",
       "      <th>lat</th>\n",
       "      <th>lon</th>\n",
       "    </tr>\n",
       "    <tr>\n",
       "      <th>state</th>\n",
       "      <th></th>\n",
       "      <th></th>\n",
       "      <th></th>\n",
       "      <th></th>\n",
       "      <th></th>\n",
       "      <th></th>\n",
       "    </tr>\n",
       "  </thead>\n",
       "  <tbody>\n",
       "    <tr>\n",
       "      <th>Alabama</th>\n",
       "      <td>Alabama</td>\n",
       "      <td>1297091</td>\n",
       "      <td>19379</td>\n",
       "      <td>1.49</td>\n",
       "      <td>32.318231</td>\n",
       "      <td>-86.902298</td>\n",
       "    </tr>\n",
       "    <tr>\n",
       "      <th>Alaska</th>\n",
       "      <td>Alaska</td>\n",
       "      <td>247078</td>\n",
       "      <td>1192</td>\n",
       "      <td>0.48</td>\n",
       "      <td>63.588753</td>\n",
       "      <td>-154.493062</td>\n",
       "    </tr>\n",
       "    <tr>\n",
       "      <th>American Samoa</th>\n",
       "      <td>American Samoa</td>\n",
       "      <td>5341</td>\n",
       "      <td>12</td>\n",
       "      <td>0.22</td>\n",
       "      <td>-14.270972</td>\n",
       "      <td>-170.132217</td>\n",
       "    </tr>\n",
       "    <tr>\n",
       "      <th>Arizona</th>\n",
       "      <td>Arizona</td>\n",
       "      <td>2014020</td>\n",
       "      <td>29681</td>\n",
       "      <td>1.47</td>\n",
       "      <td>34.048928</td>\n",
       "      <td>-111.093731</td>\n",
       "    </tr>\n",
       "    <tr>\n",
       "      <th>Arkansas</th>\n",
       "      <td>Arkansas</td>\n",
       "      <td>833718</td>\n",
       "      <td>11313</td>\n",
       "      <td>1.36</td>\n",
       "      <td>35.201050</td>\n",
       "      <td>-91.831833</td>\n",
       "    </tr>\n",
       "  </tbody>\n",
       "</table>\n",
       "</div>"
      ],
      "text/plain": [
       "                         state    cases  deaths  deaths_rate        lat  \\\n",
       "state                                                                     \n",
       "Alabama                Alabama  1297091   19379         1.49  32.318231   \n",
       "Alaska                  Alaska   247078    1192         0.48  63.588753   \n",
       "American Samoa  American Samoa     5341      12         0.22 -14.270972   \n",
       "Arizona                Arizona  2014020   29681         1.47  34.048928   \n",
       "Arkansas              Arkansas   833718   11313         1.36  35.201050   \n",
       "\n",
       "                       lon  \n",
       "state                       \n",
       "Alabama         -86.902298  \n",
       "Alaska         -154.493062  \n",
       "American Samoa -170.132217  \n",
       "Arizona        -111.093731  \n",
       "Arkansas        -91.831833  "
      ]
     },
     "execution_count": 37,
     "metadata": {},
     "output_type": "execute_result"
    }
   ],
   "source": [
    "us_covied = df.copy()\n",
    "us_covied = us_covied.groupby('state')['state','cases', 'deaths'].max()\n",
    "us_covied['deaths_rate'] =(states_rate.deaths_rate).round(2)\n",
    "us_covied[['lat', 'lon']] = cord[['lat', 'lon']].to_numpy()\n",
    "us_covied.head()"
   ]
  },
  {
   "cell_type": "markdown",
   "metadata": {},
   "source": [
    "let's save the file to use for visualization with tableau"
   ]
  },
  {
   "cell_type": "code",
   "execution_count": 38,
   "metadata": {},
   "outputs": [],
   "source": [
    "us_covied.to_csv('us_covied.csv', index=False)"
   ]
  },
  {
   "cell_type": "code",
   "execution_count": 39,
   "metadata": {},
   "outputs": [],
   "source": [
    "# import Libraries\n",
    "import plotly.graph_objects as go"
   ]
  },
  {
   "cell_type": "code",
   "execution_count": 40,
   "metadata": {},
   "outputs": [
    {
     "data": {
      "text/html": [
       "<div>\n",
       "<style scoped>\n",
       "    .dataframe tbody tr th:only-of-type {\n",
       "        vertical-align: middle;\n",
       "    }\n",
       "\n",
       "    .dataframe tbody tr th {\n",
       "        vertical-align: top;\n",
       "    }\n",
       "\n",
       "    .dataframe thead th {\n",
       "        text-align: right;\n",
       "    }\n",
       "</style>\n",
       "<table border=\"1\" class=\"dataframe\">\n",
       "  <thead>\n",
       "    <tr style=\"text-align: right;\">\n",
       "      <th></th>\n",
       "      <th>state</th>\n",
       "      <th>cases</th>\n",
       "      <th>deaths</th>\n",
       "      <th>deaths_rate</th>\n",
       "      <th>lat</th>\n",
       "      <th>lon</th>\n",
       "    </tr>\n",
       "  </thead>\n",
       "  <tbody>\n",
       "    <tr>\n",
       "      <th>0</th>\n",
       "      <td>Alabama</td>\n",
       "      <td>1297091</td>\n",
       "      <td>19379</td>\n",
       "      <td>1.49</td>\n",
       "      <td>32.318231</td>\n",
       "      <td>-86.902298</td>\n",
       "    </tr>\n",
       "    <tr>\n",
       "      <th>1</th>\n",
       "      <td>Alaska</td>\n",
       "      <td>247078</td>\n",
       "      <td>1192</td>\n",
       "      <td>0.48</td>\n",
       "      <td>63.588753</td>\n",
       "      <td>-154.493062</td>\n",
       "    </tr>\n",
       "    <tr>\n",
       "      <th>2</th>\n",
       "      <td>American Samoa</td>\n",
       "      <td>5341</td>\n",
       "      <td>12</td>\n",
       "      <td>0.22</td>\n",
       "      <td>-14.270972</td>\n",
       "      <td>-170.132217</td>\n",
       "    </tr>\n",
       "    <tr>\n",
       "      <th>3</th>\n",
       "      <td>Arizona</td>\n",
       "      <td>2014020</td>\n",
       "      <td>29681</td>\n",
       "      <td>1.47</td>\n",
       "      <td>34.048928</td>\n",
       "      <td>-111.093731</td>\n",
       "    </tr>\n",
       "    <tr>\n",
       "      <th>4</th>\n",
       "      <td>Arkansas</td>\n",
       "      <td>833718</td>\n",
       "      <td>11313</td>\n",
       "      <td>1.36</td>\n",
       "      <td>35.201050</td>\n",
       "      <td>-91.831833</td>\n",
       "    </tr>\n",
       "  </tbody>\n",
       "</table>\n",
       "</div>"
      ],
      "text/plain": [
       "            state    cases  deaths  deaths_rate        lat         lon\n",
       "0         Alabama  1297091   19379         1.49  32.318231  -86.902298\n",
       "1          Alaska   247078    1192         0.48  63.588753 -154.493062\n",
       "2  American Samoa     5341      12         0.22 -14.270972 -170.132217\n",
       "3         Arizona  2014020   29681         1.47  34.048928 -111.093731\n",
       "4        Arkansas   833718   11313         1.36  35.201050  -91.831833"
      ]
     },
     "execution_count": 40,
     "metadata": {},
     "output_type": "execute_result"
    }
   ],
   "source": [
    "# upload the file \n",
    "df2 = pd.read_csv('us_covied.csv')\n",
    "df2.head()"
   ]
  },
  {
   "cell_type": "code",
   "execution_count": 41,
   "metadata": {},
   "outputs": [
    {
     "data": {
      "application/vnd.plotly.v1+json": {
       "config": {
        "plotlyServerURL": "https://plot.ly"
       },
       "data": [
        {
         "lat": [
          32.318231,
          63.588753
         ],
         "locationmode": "USA-states",
         "lon": [
          -86.902298,
          -154.493062
         ],
         "marker": {
          "color": "blue",
          "line": {
           "width": 0.5
          },
          "size": [
           259.4182,
           49.4156
          ],
          "sizemode": "area"
         },
         "name": "0 - 2",
         "text": [
          "Alabama<br>cases 1.297091 million<br>deaths19379<br>deaths_rate1.49%",
          "Alaska<br>cases 0.247078 million<br>deaths1192<br>deaths_rate0.48%"
         ],
         "type": "scattergeo"
        },
        {
         "lat": [
          34.048928,
          35.20105,
          36.778261,
          39.550051,
          41.603221,
          38.910832,
          38.905985
         ],
         "locationmode": "USA-states",
         "lon": [
          -111.093731,
          -91.831833,
          -119.417932,
          -105.782067,
          -73.087749,
          -75.52767,
          -77.033418
         ],
         "marker": {
          "color": "blue",
          "line": {
           "width": 0.5
          },
          "size": [
           402.804,
           166.7436,
           1826.9588,
           272.851,
           148.546,
           52.0582,
           27.5206
          ],
          "sizemode": "area"
         },
         "name": "3 - 10",
         "text": [
          "Arizona<br>cases 2.01402 million<br>deaths29681<br>deaths_rate1.47%",
          "Arkansas<br>cases 0.833718 million<br>deaths11313<br>deaths_rate1.36%",
          "California<br>cases 9.134794 million<br>deaths89484<br>deaths_rate0.98%",
          "Colorado<br>cases 1.364255 million<br>deaths12206<br>deaths_rate0.89%",
          "Connecticut<br>cases 0.74273 million<br>deaths10802<br>deaths_rate1.45%",
          "Delaware<br>cases 0.260291 million<br>deaths2884<br>deaths_rate1.11%",
          "District of Columbia<br>cases 0.137603 million<br>deaths1333<br>deaths_rate0.97%"
         ],
         "type": "scattergeo"
        },
        {
         "lat": [
          32.157435,
          13.444304,
          19.898682,
          44.068202,
          40.633125,
          40.551217,
          41.878003,
          39.011902,
          37.839333
         ],
         "locationmode": "USA-states",
         "lon": [
          -82.907123,
          144.793731,
          -155.665857,
          -114.742041,
          -89.398528,
          -85.602364,
          -93.097702,
          -98.484246,
          -84.270018
         ],
         "marker": {
          "color": "blue",
          "line": {
           "width": 0.5
          },
          "size": [
           486.9404,
           9.7136,
           47.1594,
           88.9694,
           618.118,
           338.9696,
           151.9442,
           154.419,
           265.851
          ],
          "sizemode": "area"
         },
         "name": "11 - 20",
         "text": [
          "Georgia<br>cases 2.434702 million<br>deaths35943<br>deaths_rate1.48%",
          "Guam<br>cases 0.048568 million<br>deaths353<br>deaths_rate0.73%",
          "Hawaii<br>cases 0.235797 million<br>deaths1379<br>deaths_rate0.58%",
          "Idaho<br>cases 0.444847 million<br>deaths4900<br>deaths_rate1.1%",
          "Illinois<br>cases 3.09059 million<br>deaths37777<br>deaths_rate1.22%",
          "Indiana<br>cases 1.694848 million<br>deaths23486<br>deaths_rate1.39%",
          "Iowa<br>cases 0.759721 million<br>deaths9454<br>deaths_rate1.24%",
          "Kansas<br>cases 0.772095 million<br>deaths8422<br>deaths_rate1.09%",
          "Kentucky<br>cases 1.329255 million<br>deaths15211<br>deaths_rate1.14%"
         ],
         "type": "scattergeo"
        },
        {
         "lat": [
          45.253783,
          39.045755,
          42.407211,
          44.314844,
          46.729553,
          32.354668,
          37.964253,
          46.879682,
          41.492537,
          38.80261,
          43.193852,
          40.058324,
          34.97273,
          43.299428,
          35.759573,
          47.551493,
          15.183333,
          40.417287,
          35.007752,
          43.804133,
          41.203322,
          18.220833,
          41.580095,
          33.836081,
          43.969515,
          35.517491,
          31.968599,
          39.32098,
          44.558803
         ],
         "locationmode": "USA-states",
         "lon": [
          -69.445469,
          -76.641271,
          -71.382437,
          -85.602364,
          -94.6859,
          -89.398528,
          -91.831833,
          -110.362566,
          -99.901813,
          -116.419389,
          -71.572395,
          -74.405661,
          -105.032363,
          -74.217933,
          -79.0193,
          -101.002012,
          145.75,
          -82.907123,
          -97.092877,
          -120.554201,
          -77.194525,
          -66.590149,
          -71.477429,
          -81.163725,
          -99.901813,
          -86.580447,
          -99.901813,
          -111.093731,
          -72.577841
         ],
         "marker": {
          "color": "blue",
          "line": {
           "width": 0.5
          },
          "size": [
           47.5434,
           203.447,
           342.8334,
           477.5034,
           286.8276,
           159.1648,
           285.954,
           54.6326,
           95.6366,
           142.9304,
           60.873,
           443.3608,
           103.8524,
           1005.5174,
           527.1742,
           48.022,
           2.2406,
           535.3258,
           207.2266,
           141.5024,
           557.9498,
           104.2814,
           72.8368,
           293.9412,
           47.4492,
           394.8598,
           1341.409,
           185.7694,
           23.704
          ],
          "sizemode": "area"
         },
         "name": "21 - 50",
         "text": [
          "Maine<br>cases 0.237717 million<br>deaths2222<br>deaths_rate0.93%",
          "Maryland<br>cases 1.017235 million<br>deaths14377<br>deaths_rate1.41%",
          "Massachusetts<br>cases 1.714167 million<br>deaths23751<br>deaths_rate1.39%",
          "Michigan<br>cases 2.387517 million<br>deaths35736<br>deaths_rate1.5%",
          "Minnesota<br>cases 1.434138 million<br>deaths12687<br>deaths_rate0.88%",
          "Mississippi<br>cases 0.795824 million<br>deaths12413<br>deaths_rate1.56%",
          "Missouri<br>cases 1.42977 million<br>deaths20178<br>deaths_rate1.41%",
          "Montana<br>cases 0.273163 million<br>deaths3255<br>deaths_rate1.19%",
          "Nebraska<br>cases 0.478183 million<br>deaths4175<br>deaths_rate0.87%",
          "Nevada<br>cases 0.714652 million<br>deaths10164<br>deaths_rate1.42%",
          "New Hampshire<br>cases 0.304365 million<br>deaths2459<br>deaths_rate0.81%",
          "New Jersey<br>cases 2.216804 million<br>deaths33308<br>deaths_rate1.5%",
          "New Mexico<br>cases 0.519262 million<br>deaths7375<br>deaths_rate1.42%",
          "New York<br>cases 5.027587 million<br>deaths67413<br>deaths_rate1.34%",
          "North Carolina<br>cases 2.635871 million<br>deaths23268<br>deaths_rate0.88%",
          "North Dakota<br>cases 0.24011 million<br>deaths2301<br>deaths_rate0.96%",
          "Northern Mariana Islands<br>cases 0.011203 million<br>deaths34<br>deaths_rate0.3%",
          "Ohio<br>cases 2.676629 million<br>deaths38166<br>deaths_rate1.43%",
          "Oklahoma<br>cases 1.036133 million<br>deaths14087<br>deaths_rate1.36%",
          "Oregon<br>cases 0.707512 million<br>deaths7315<br>deaths_rate1.03%",
          "Pennsylvania<br>cases 2.789749 million<br>deaths44425<br>deaths_rate1.59%",
          "Puerto Rico<br>cases 0.521407 million<br>deaths4177<br>deaths_rate0.8%",
          "Rhode Island<br>cases 0.364184 million<br>deaths3527<br>deaths_rate0.97%",
          "South Carolina<br>cases 1.469706 million<br>deaths17650<br>deaths_rate1.2%",
          "South Dakota<br>cases 0.237246 million<br>deaths2893<br>deaths_rate1.22%",
          "Tennessee<br>cases 1.974299 million<br>deaths25757<br>deaths_rate1.3%",
          "Texas<br>cases 6.707045 million<br>deaths87801<br>deaths_rate1.31%",
          "Utah<br>cases 0.928847 million<br>deaths4730<br>deaths_rate0.51%",
          "Vermont<br>cases 0.11852 million<br>deaths623<br>deaths_rate0.53%"
         ],
         "type": "scattergeo"
        },
        {
         "lat": [
          18.335765,
          37.431573,
          47.751074,
          38.597626,
          43.78444,
          43.075968
         ],
         "locationmode": "USA-states",
         "lon": [
          -64.896335,
          -78.656894,
          -120.740139,
          -80.454903,
          -88.787868,
          -107.290284
         ],
         "marker": {
          "color": "blue",
          "line": {
           "width": 0.5
          },
          "size": [
           3.1528,
           335.643,
           293.8878,
           99.7084,
           318.3612,
           31.2562
          ],
          "sizemode": "area"
         },
         "name": "50 - 3000",
         "text": [
          "Virgin Islands<br>cases 0.015764 million<br>deaths111<br>deaths_rate0.7%",
          "Virginia<br>cases 1.678215 million<br>deaths19884<br>deaths_rate1.18%",
          "Washington<br>cases 1.469439 million<br>deaths12627<br>deaths_rate0.86%",
          "West Virginia<br>cases 0.498542 million<br>deaths6839<br>deaths_rate1.37%",
          "Wisconsin<br>cases 1.591806 million<br>deaths14349<br>deaths_rate0.9%",
          "Wyoming<br>cases 0.156281 million<br>deaths1796<br>deaths_rate1.15%"
         ],
         "type": "scattergeo"
        }
       ],
       "layout": {
        "geo": {
         "landcolor": "rgb(217, 217, 217)",
         "scope": "usa"
        },
        "showlegend": true,
        "template": {
         "data": {
          "bar": [
           {
            "error_x": {
             "color": "#2a3f5f"
            },
            "error_y": {
             "color": "#2a3f5f"
            },
            "marker": {
             "line": {
              "color": "#E5ECF6",
              "width": 0.5
             },
             "pattern": {
              "fillmode": "overlay",
              "size": 10,
              "solidity": 0.2
             }
            },
            "type": "bar"
           }
          ],
          "barpolar": [
           {
            "marker": {
             "line": {
              "color": "#E5ECF6",
              "width": 0.5
             },
             "pattern": {
              "fillmode": "overlay",
              "size": 10,
              "solidity": 0.2
             }
            },
            "type": "barpolar"
           }
          ],
          "carpet": [
           {
            "aaxis": {
             "endlinecolor": "#2a3f5f",
             "gridcolor": "white",
             "linecolor": "white",
             "minorgridcolor": "white",
             "startlinecolor": "#2a3f5f"
            },
            "baxis": {
             "endlinecolor": "#2a3f5f",
             "gridcolor": "white",
             "linecolor": "white",
             "minorgridcolor": "white",
             "startlinecolor": "#2a3f5f"
            },
            "type": "carpet"
           }
          ],
          "choropleth": [
           {
            "colorbar": {
             "outlinewidth": 0,
             "ticks": ""
            },
            "type": "choropleth"
           }
          ],
          "contour": [
           {
            "colorbar": {
             "outlinewidth": 0,
             "ticks": ""
            },
            "colorscale": [
             [
              0,
              "#0d0887"
             ],
             [
              0.1111111111111111,
              "#46039f"
             ],
             [
              0.2222222222222222,
              "#7201a8"
             ],
             [
              0.3333333333333333,
              "#9c179e"
             ],
             [
              0.4444444444444444,
              "#bd3786"
             ],
             [
              0.5555555555555556,
              "#d8576b"
             ],
             [
              0.6666666666666666,
              "#ed7953"
             ],
             [
              0.7777777777777778,
              "#fb9f3a"
             ],
             [
              0.8888888888888888,
              "#fdca26"
             ],
             [
              1,
              "#f0f921"
             ]
            ],
            "type": "contour"
           }
          ],
          "contourcarpet": [
           {
            "colorbar": {
             "outlinewidth": 0,
             "ticks": ""
            },
            "type": "contourcarpet"
           }
          ],
          "heatmap": [
           {
            "colorbar": {
             "outlinewidth": 0,
             "ticks": ""
            },
            "colorscale": [
             [
              0,
              "#0d0887"
             ],
             [
              0.1111111111111111,
              "#46039f"
             ],
             [
              0.2222222222222222,
              "#7201a8"
             ],
             [
              0.3333333333333333,
              "#9c179e"
             ],
             [
              0.4444444444444444,
              "#bd3786"
             ],
             [
              0.5555555555555556,
              "#d8576b"
             ],
             [
              0.6666666666666666,
              "#ed7953"
             ],
             [
              0.7777777777777778,
              "#fb9f3a"
             ],
             [
              0.8888888888888888,
              "#fdca26"
             ],
             [
              1,
              "#f0f921"
             ]
            ],
            "type": "heatmap"
           }
          ],
          "heatmapgl": [
           {
            "colorbar": {
             "outlinewidth": 0,
             "ticks": ""
            },
            "colorscale": [
             [
              0,
              "#0d0887"
             ],
             [
              0.1111111111111111,
              "#46039f"
             ],
             [
              0.2222222222222222,
              "#7201a8"
             ],
             [
              0.3333333333333333,
              "#9c179e"
             ],
             [
              0.4444444444444444,
              "#bd3786"
             ],
             [
              0.5555555555555556,
              "#d8576b"
             ],
             [
              0.6666666666666666,
              "#ed7953"
             ],
             [
              0.7777777777777778,
              "#fb9f3a"
             ],
             [
              0.8888888888888888,
              "#fdca26"
             ],
             [
              1,
              "#f0f921"
             ]
            ],
            "type": "heatmapgl"
           }
          ],
          "histogram": [
           {
            "marker": {
             "pattern": {
              "fillmode": "overlay",
              "size": 10,
              "solidity": 0.2
             }
            },
            "type": "histogram"
           }
          ],
          "histogram2d": [
           {
            "colorbar": {
             "outlinewidth": 0,
             "ticks": ""
            },
            "colorscale": [
             [
              0,
              "#0d0887"
             ],
             [
              0.1111111111111111,
              "#46039f"
             ],
             [
              0.2222222222222222,
              "#7201a8"
             ],
             [
              0.3333333333333333,
              "#9c179e"
             ],
             [
              0.4444444444444444,
              "#bd3786"
             ],
             [
              0.5555555555555556,
              "#d8576b"
             ],
             [
              0.6666666666666666,
              "#ed7953"
             ],
             [
              0.7777777777777778,
              "#fb9f3a"
             ],
             [
              0.8888888888888888,
              "#fdca26"
             ],
             [
              1,
              "#f0f921"
             ]
            ],
            "type": "histogram2d"
           }
          ],
          "histogram2dcontour": [
           {
            "colorbar": {
             "outlinewidth": 0,
             "ticks": ""
            },
            "colorscale": [
             [
              0,
              "#0d0887"
             ],
             [
              0.1111111111111111,
              "#46039f"
             ],
             [
              0.2222222222222222,
              "#7201a8"
             ],
             [
              0.3333333333333333,
              "#9c179e"
             ],
             [
              0.4444444444444444,
              "#bd3786"
             ],
             [
              0.5555555555555556,
              "#d8576b"
             ],
             [
              0.6666666666666666,
              "#ed7953"
             ],
             [
              0.7777777777777778,
              "#fb9f3a"
             ],
             [
              0.8888888888888888,
              "#fdca26"
             ],
             [
              1,
              "#f0f921"
             ]
            ],
            "type": "histogram2dcontour"
           }
          ],
          "mesh3d": [
           {
            "colorbar": {
             "outlinewidth": 0,
             "ticks": ""
            },
            "type": "mesh3d"
           }
          ],
          "parcoords": [
           {
            "line": {
             "colorbar": {
              "outlinewidth": 0,
              "ticks": ""
             }
            },
            "type": "parcoords"
           }
          ],
          "pie": [
           {
            "automargin": true,
            "type": "pie"
           }
          ],
          "scatter": [
           {
            "marker": {
             "colorbar": {
              "outlinewidth": 0,
              "ticks": ""
             }
            },
            "type": "scatter"
           }
          ],
          "scatter3d": [
           {
            "line": {
             "colorbar": {
              "outlinewidth": 0,
              "ticks": ""
             }
            },
            "marker": {
             "colorbar": {
              "outlinewidth": 0,
              "ticks": ""
             }
            },
            "type": "scatter3d"
           }
          ],
          "scattercarpet": [
           {
            "marker": {
             "colorbar": {
              "outlinewidth": 0,
              "ticks": ""
             }
            },
            "type": "scattercarpet"
           }
          ],
          "scattergeo": [
           {
            "marker": {
             "colorbar": {
              "outlinewidth": 0,
              "ticks": ""
             }
            },
            "type": "scattergeo"
           }
          ],
          "scattergl": [
           {
            "marker": {
             "colorbar": {
              "outlinewidth": 0,
              "ticks": ""
             }
            },
            "type": "scattergl"
           }
          ],
          "scattermapbox": [
           {
            "marker": {
             "colorbar": {
              "outlinewidth": 0,
              "ticks": ""
             }
            },
            "type": "scattermapbox"
           }
          ],
          "scatterpolar": [
           {
            "marker": {
             "colorbar": {
              "outlinewidth": 0,
              "ticks": ""
             }
            },
            "type": "scatterpolar"
           }
          ],
          "scatterpolargl": [
           {
            "marker": {
             "colorbar": {
              "outlinewidth": 0,
              "ticks": ""
             }
            },
            "type": "scatterpolargl"
           }
          ],
          "scatterternary": [
           {
            "marker": {
             "colorbar": {
              "outlinewidth": 0,
              "ticks": ""
             }
            },
            "type": "scatterternary"
           }
          ],
          "surface": [
           {
            "colorbar": {
             "outlinewidth": 0,
             "ticks": ""
            },
            "colorscale": [
             [
              0,
              "#0d0887"
             ],
             [
              0.1111111111111111,
              "#46039f"
             ],
             [
              0.2222222222222222,
              "#7201a8"
             ],
             [
              0.3333333333333333,
              "#9c179e"
             ],
             [
              0.4444444444444444,
              "#bd3786"
             ],
             [
              0.5555555555555556,
              "#d8576b"
             ],
             [
              0.6666666666666666,
              "#ed7953"
             ],
             [
              0.7777777777777778,
              "#fb9f3a"
             ],
             [
              0.8888888888888888,
              "#fdca26"
             ],
             [
              1,
              "#f0f921"
             ]
            ],
            "type": "surface"
           }
          ],
          "table": [
           {
            "cells": {
             "fill": {
              "color": "#EBF0F8"
             },
             "line": {
              "color": "white"
             }
            },
            "header": {
             "fill": {
              "color": "#C8D4E3"
             },
             "line": {
              "color": "white"
             }
            },
            "type": "table"
           }
          ]
         },
         "layout": {
          "annotationdefaults": {
           "arrowcolor": "#2a3f5f",
           "arrowhead": 0,
           "arrowwidth": 1
          },
          "autotypenumbers": "strict",
          "coloraxis": {
           "colorbar": {
            "outlinewidth": 0,
            "ticks": ""
           }
          },
          "colorscale": {
           "diverging": [
            [
             0,
             "#8e0152"
            ],
            [
             0.1,
             "#c51b7d"
            ],
            [
             0.2,
             "#de77ae"
            ],
            [
             0.3,
             "#f1b6da"
            ],
            [
             0.4,
             "#fde0ef"
            ],
            [
             0.5,
             "#f7f7f7"
            ],
            [
             0.6,
             "#e6f5d0"
            ],
            [
             0.7,
             "#b8e186"
            ],
            [
             0.8,
             "#7fbc41"
            ],
            [
             0.9,
             "#4d9221"
            ],
            [
             1,
             "#276419"
            ]
           ],
           "sequential": [
            [
             0,
             "#0d0887"
            ],
            [
             0.1111111111111111,
             "#46039f"
            ],
            [
             0.2222222222222222,
             "#7201a8"
            ],
            [
             0.3333333333333333,
             "#9c179e"
            ],
            [
             0.4444444444444444,
             "#bd3786"
            ],
            [
             0.5555555555555556,
             "#d8576b"
            ],
            [
             0.6666666666666666,
             "#ed7953"
            ],
            [
             0.7777777777777778,
             "#fb9f3a"
            ],
            [
             0.8888888888888888,
             "#fdca26"
            ],
            [
             1,
             "#f0f921"
            ]
           ],
           "sequentialminus": [
            [
             0,
             "#0d0887"
            ],
            [
             0.1111111111111111,
             "#46039f"
            ],
            [
             0.2222222222222222,
             "#7201a8"
            ],
            [
             0.3333333333333333,
             "#9c179e"
            ],
            [
             0.4444444444444444,
             "#bd3786"
            ],
            [
             0.5555555555555556,
             "#d8576b"
            ],
            [
             0.6666666666666666,
             "#ed7953"
            ],
            [
             0.7777777777777778,
             "#fb9f3a"
            ],
            [
             0.8888888888888888,
             "#fdca26"
            ],
            [
             1,
             "#f0f921"
            ]
           ]
          },
          "colorway": [
           "#636efa",
           "#EF553B",
           "#00cc96",
           "#ab63fa",
           "#FFA15A",
           "#19d3f3",
           "#FF6692",
           "#B6E880",
           "#FF97FF",
           "#FECB52"
          ],
          "font": {
           "color": "#2a3f5f"
          },
          "geo": {
           "bgcolor": "white",
           "lakecolor": "white",
           "landcolor": "#E5ECF6",
           "showlakes": true,
           "showland": true,
           "subunitcolor": "white"
          },
          "hoverlabel": {
           "align": "left"
          },
          "hovermode": "closest",
          "mapbox": {
           "style": "light"
          },
          "paper_bgcolor": "white",
          "plot_bgcolor": "#E5ECF6",
          "polar": {
           "angularaxis": {
            "gridcolor": "white",
            "linecolor": "white",
            "ticks": ""
           },
           "bgcolor": "#E5ECF6",
           "radialaxis": {
            "gridcolor": "white",
            "linecolor": "white",
            "ticks": ""
           }
          },
          "scene": {
           "xaxis": {
            "backgroundcolor": "#E5ECF6",
            "gridcolor": "white",
            "gridwidth": 2,
            "linecolor": "white",
            "showbackground": true,
            "ticks": "",
            "zerolinecolor": "white"
           },
           "yaxis": {
            "backgroundcolor": "#E5ECF6",
            "gridcolor": "white",
            "gridwidth": 2,
            "linecolor": "white",
            "showbackground": true,
            "ticks": "",
            "zerolinecolor": "white"
           },
           "zaxis": {
            "backgroundcolor": "#E5ECF6",
            "gridcolor": "white",
            "gridwidth": 2,
            "linecolor": "white",
            "showbackground": true,
            "ticks": "",
            "zerolinecolor": "white"
           }
          },
          "shapedefaults": {
           "line": {
            "color": "#2a3f5f"
           }
          },
          "ternary": {
           "aaxis": {
            "gridcolor": "white",
            "linecolor": "white",
            "ticks": ""
           },
           "baxis": {
            "gridcolor": "white",
            "linecolor": "white",
            "ticks": ""
           },
           "bgcolor": "#E5ECF6",
           "caxis": {
            "gridcolor": "white",
            "linecolor": "white",
            "ticks": ""
           }
          },
          "title": {
           "x": 0.05
          },
          "xaxis": {
           "automargin": true,
           "gridcolor": "white",
           "linecolor": "white",
           "ticks": "",
           "title": {
            "standoff": 15
           },
           "zerolinecolor": "white",
           "zerolinewidth": 2
          },
          "yaxis": {
           "automargin": true,
           "gridcolor": "white",
           "linecolor": "white",
           "ticks": "",
           "title": {
            "standoff": 15
           },
           "zerolinecolor": "white",
           "zerolinewidth": 2
          }
         }
        },
        "title": {
         "text": "Numbers of the COVID-19 Pandemic in united states<br>(Click legend to toggle traces)"
        }
       }
      }
     },
     "metadata": {},
     "output_type": "display_data"
    }
   ],
   "source": [
    "# show the data as scatter plot\n",
    "df2['text'] = df2['state'] + '<br>cases ' + (df2['cases']/1e6).astype(str)+' million' + '<br>deaths' + (df2['deaths']).astype(str) + '<br>deaths_rate' + (df2['deaths_rate']).astype(str) + '%'\n",
    "limits = [(0,2),(3,10),(11,20),(21,50),(50,3000)]\n",
    "states = []\n",
    "scale = 5000\n",
    "\n",
    "fig = go.Figure()\n",
    "\n",
    "for i in range(len(limits)):\n",
    "    lim = limits[i]\n",
    "    df_sub = df2[lim[0]:lim[1]]\n",
    "    fig.add_trace(go.Scattergeo(\n",
    "        locationmode = 'USA-states',\n",
    "        lon = df_sub['lon'],\n",
    "        lat = df_sub['lat'],\n",
    "        text = df_sub['text'],\n",
    "        marker = dict(\n",
    "            size = df_sub['cases']/scale,\n",
    "            color = 'blue',\n",
    "            line_width=0.5,\n",
    "            sizemode = 'area'\n",
    "        ),\n",
    "        name = '{0} - {1}'.format(lim[0],lim[1])))\n",
    "\n",
    "fig.update_layout(\n",
    "        title_text = 'Numbers of the COVID-19 Pandemic in united states<br>(Click legend to toggle traces)',\n",
    "        showlegend = True,\n",
    "        geo = dict(\n",
    "            scope = 'usa',\n",
    "            landcolor = 'rgb(217, 217, 217)',\n",
    "        )\n",
    "    )\n",
    "\n",
    "fig.show()\n",
    "\n"
   ]
  },
  {
   "cell_type": "markdown",
   "metadata": {},
   "source": [
    "we can see from this chart Eastern states are more affected by Covid than western states"
   ]
  },
  {
   "cell_type": "markdown",
   "metadata": {},
   "source": [
    "## summary "
   ]
  },
  {
   "cell_type": "markdown",
   "metadata": {},
   "source": [
    "#### From this analyzation we found:\n",
    "1-\tThe first case of covid-19 and the first death recorded in US where both in Washington.\n",
    "\n",
    "2-\tAlthough the US has reported more than 80 million cases it’s has a low death rate of 1.23%\n",
    "\n",
    "3-\tAlthough California so far has the highest cases and deaths recorded it doesn’t have the highest death rate.\n",
    "\n",
    "4-\tPennsylvania has the highest death rate so we can say that it is the most affected state by covid\n",
    "\n",
    "5-\tEastern states are more affected by covid than the other states.\n"
   ]
  },
  {
   "cell_type": "markdown",
   "metadata": {},
   "source": [
    "From this analysis, the decision-maker in the US must focus the vaccination pross on the states with the highest death rate like Pennsylvania, Mississippi, Michigan, and New Jersey.\n",
    "\n",
    "And now that the epidemic is far from over, precautionary measures must continue, and their intensity must be according to the waves of the epidemic.\n",
    "\n",
    "Finally, we must keep an eye on the new mutations of the virus and make sure that the vaccine is able to neutralize it.\n"
   ]
  }
 ],
 "metadata": {
  "interpreter": {
   "hash": "85bd3ffd7ef73306eff2fbf9c364e4cc44f88b2a7aa8cd608eaa4a5f2edd324f"
  },
  "kernelspec": {
   "display_name": "Python 3.9.11 64-bit (windows store)",
   "language": "python",
   "name": "python3"
  },
  "language_info": {
   "codemirror_mode": {
    "name": "ipython",
    "version": 3
   },
   "file_extension": ".py",
   "mimetype": "text/x-python",
   "name": "python",
   "nbconvert_exporter": "python",
   "pygments_lexer": "ipython3",
   "version": "3.9.12"
  },
  "orig_nbformat": 4
 },
 "nbformat": 4,
 "nbformat_minor": 2
}
